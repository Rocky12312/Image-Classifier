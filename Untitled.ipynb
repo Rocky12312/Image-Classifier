{
 "cells": [
  {
   "cell_type": "code",
   "execution_count": 19,
   "metadata": {},
   "outputs": [],
   "source": [
    "#For converting image from rgb to grayscale\n",
    "import cv2\n",
    "import os\n",
    "path = \"/home/bluebrain/Desktop/intel/test/seg_test/seg_test/sea/\"\n",
    "path1 = \"/home/bluebrain/Desktop/intel/test1/sea/\"\n",
    "for i in os.listdir(path):\n",
    "    #print(i)\n",
    "    img = cv2.imread(path+i)\n",
    "    col = cv2.cvtColor(img,cv2.COLOR_RGB2GRAY)\n",
    "    cv2.imwrite(os.path.join(path1,i),col)"
   ]
  },
  {
   "cell_type": "code",
   "execution_count": 25,
   "metadata": {},
   "outputs": [],
   "source": [
    "#For resizing the image\n",
    "import os\n",
    "import cv2\n",
    "path2 = \"/home/bluebrain/Desktop/intel/test1/buildings/\"\n",
    "path3 = \"/home/bluebrain/Desktop/intel/test2/buildings/\"\n",
    "for i in os.listdir(path2):\n",
    "    #print(i)\n",
    "    img = cv2.imread(path2+i)\n",
    "    #gray = cv2.cvtColor(img,cv2.COLOR_BGR2GRAY)\n",
    "    dim = (224,224) \n",
    "    resized = cv2.resize(img, dim, interpolation = cv2.INTER_AREA) \n",
    "    cv2.imwrite(os.path.join(path3,i),resized)"
   ]
  },
  {
   "cell_type": "code",
   "execution_count": null,
   "metadata": {},
   "outputs": [],
   "source": [
    "/Desktop/intel/train/seg_train/seg_train/mountain"
   ]
  }
 ],
 "metadata": {
  "kernelspec": {
   "display_name": "Python 3",
   "language": "python",
   "name": "python3"
  },
  "language_info": {
   "codemirror_mode": {
    "name": "ipython",
    "version": 3
   },
   "file_extension": ".py",
   "mimetype": "text/x-python",
   "name": "python",
   "nbconvert_exporter": "python",
   "pygments_lexer": "ipython3",
   "version": "3.7.4"
  }
 },
 "nbformat": 4,
 "nbformat_minor": 2
}
